{
 "cells": [
  {
   "cell_type": "code",
   "execution_count": 23,
   "metadata": {},
   "outputs": [],
   "source": [
    "# load transformers and pandas\n",
    "file_path = './artwar.1b.txt'\n",
    "\n",
    "with open(file_path, 'r') as f:\n",
    "    book_text = f.read()\n",
    "    book_text = book_text.lower()\n",
    "    \n",
    "dataset= book_text.split('\\n')\n",
    "\n",
    "# save this\n",
    "\n",
    "with open('./artwar.1b_cleaned.txt', 'w') as f:\n",
    "    f.write(book_text)"
   ]
  },
  {
   "cell_type": "code",
   "execution_count": 24,
   "metadata": {},
   "outputs": [
    {
     "name": "stderr",
     "output_type": "stream",
     "text": [
      "e:\\Users\\hcang\\anaconda3\\Lib\\site-packages\\transformers\\data\\datasets\\language_modeling.py:53: FutureWarning: This dataset will be removed from the library soon, preprocessing should be handled with the 🤗 Datasets library. You can have a look at this example script for pointers: https://github.com/huggingface/transformers/blob/main/examples/pytorch/language-modeling/run_mlm.py\n",
      "  warnings.warn(\n"
     ]
    },
    {
     "data": {
      "application/vnd.jupyter.widget-view+json": {
       "model_id": "e90d08c6e73e4cb7bbd44d56c6241ba9",
       "version_major": 2,
       "version_minor": 0
      },
      "text/plain": [
       "  0%|          | 0/90 [00:00<?, ?it/s]"
      ]
     },
     "metadata": {},
     "output_type": "display_data"
    },
    {
     "name": "stdout",
     "output_type": "stream",
     "text": [
      "{'train_runtime': 14.5152, 'train_samples_per_second': 24.802, 'train_steps_per_second': 6.2, 'train_loss': 3.1182271321614583, 'epoch': 3.0}\n"
     ]
    },
    {
     "data": {
      "text/plain": [
       "('./finetuned_model\\\\tokenizer_config.json',\n",
       " './finetuned_model\\\\special_tokens_map.json',\n",
       " './finetuned_model\\\\vocab.json',\n",
       " './finetuned_model\\\\merges.txt',\n",
       " './finetuned_model\\\\added_tokens.json')"
      ]
     },
     "execution_count": 24,
     "metadata": {},
     "output_type": "execute_result"
    }
   ],
   "source": [
    "from transformers import GPT2LMHeadModel, GPT2Tokenizer, TextDataset, DataCollatorForLanguageModeling, Trainer, TrainingArguments\n",
    "\n",
    "# Load the pretrained model and tokenizer\n",
    "model_name = 'gpt2'\n",
    "tokenizer = GPT2Tokenizer.from_pretrained(model_name)\n",
    "model = GPT2LMHeadModel.from_pretrained(model_name)\n",
    "\n",
    "# Tokenize the text (this assumes that 'the_art_of_war.txt' is your text file)\n",
    "file_path = dataset\n",
    "train_dataset = TextDataset(\n",
    "    tokenizer=tokenizer,\n",
    "    file_path=\"./artwar.1b_cleaned.txt\",\n",
    "    block_size=128\n",
    ")\n",
    "\n",
    "# Data collator used for language modeling\n",
    "data_collator = DataCollatorForLanguageModeling(\n",
    "    tokenizer=tokenizer, \n",
    "    mlm=False  # For GPT2, we use mlm=False. It's not a masked language model.\n",
    ")\n",
    "\n",
    "# Initialize Trainer\n",
    "training_args = TrainingArguments(\n",
    "    output_dir='./results',          # output directory for model checkpoints\n",
    "    overwrite_output_dir=True,       # overwrite the content of the output directory\n",
    "    num_train_epochs=3,              # number of training epochs\n",
    "    per_device_train_batch_size=4,   # batch size for training\n",
    "    save_steps=10_000,               # after # steps model is saved\n",
    "    save_total_limit=2,              # only last # models are saved\n",
    ")\n",
    "\n",
    "trainer = Trainer(\n",
    "    model=model,\n",
    "    args=training_args,\n",
    "    data_collator=data_collator,\n",
    "    train_dataset=train_dataset,\n",
    ")\n",
    "\n",
    "# Train the model\n",
    "trainer.train()\n",
    "\n",
    "# Save the model\n",
    "model.save_pretrained('./finetuned_model')\n",
    "tokenizer.save_pretrained('./finetuned_model')"
   ]
  },
  {
   "cell_type": "code",
   "execution_count": 28,
   "metadata": {},
   "outputs": [
    {
     "name": "stderr",
     "output_type": "stream",
     "text": [
      "The attention mask and the pad token id were not set. As a consequence, you may observe unexpected behavior. Please pass your input's `attention_mask` to obtain reliable results.\n",
      "Setting `pad_token_id` to `eos_token_id`:50256 for open-end generation.\n"
     ]
    },
    {
     "name": "stdout",
     "output_type": "stream",
     "text": [
      "Sample 1: The supreme art of war is to use both sides in a single battle and to occupy them by an overwhelming and constant rout.\n",
      "\n",
      "Sample 2: The supreme art of war is the defense and defense of his country\n",
      "or country from attack.\n",
      "\n",
      "Sample 3: The supreme art of war is to fight for victory; but if the enemy has not a body or soldiers, his army is like a jumble; and if the enemy has a great number of men, his army is like a flock, and the.\n",
      "\n"
     ]
    }
   ],
   "source": [
    "from transformers import GPT2LMHeadModel, GPT2Tokenizer\n",
    "\n",
    "# Load fine-tuned model and tokenizer\n",
    "model_path = './finetuned_model'\n",
    "model = GPT2LMHeadModel.from_pretrained(model_path)\n",
    "tokenizer = GPT2Tokenizer.from_pretrained(model_path)\n",
    "\n",
    "# Encode a text prompt to start off the generation\n",
    "input_text = \"The supreme art of war is\"\n",
    "input_ids = tokenizer.encode(input_text, return_tensors='pt')\n",
    "\n",
    "# Generate text using the model\n",
    "max_length = 50  # specifies how long the generated passage should be\n",
    "sample_outputs = model.generate(\n",
    "    input_ids,\n",
    "    do_sample=True,\n",
    "    max_length=max_length,\n",
    "    top_k=50,\n",
    "    top_p=0.95,\n",
    "    num_return_sequences=3\n",
    ")\n",
    "\n",
    "# Decode the generated text\n",
    "# for i, sample_output in enumerate(sample_outputs):\n",
    "#     print(f\"Sample {i+1}: {tokenizer.decode(sample_output, skip_special_tokens=True)}\\n\")"
   ]
  },
  {
   "cell_type": "code",
   "execution_count": null,
   "metadata": {},
   "outputs": [],
   "source": []
  }
 ],
 "metadata": {
  "kernelspec": {
   "display_name": "base",
   "language": "python",
   "name": "python3"
  },
  "language_info": {
   "codemirror_mode": {
    "name": "ipython",
    "version": 3
   },
   "file_extension": ".py",
   "mimetype": "text/x-python",
   "name": "python",
   "nbconvert_exporter": "python",
   "pygments_lexer": "ipython3",
   "version": "3.11.4"
  }
 },
 "nbformat": 4,
 "nbformat_minor": 2
}
